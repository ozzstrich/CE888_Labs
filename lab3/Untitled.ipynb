{
 "cells": [
  {
   "cell_type": "code",
   "execution_count": 2,
   "metadata": {},
   "outputs": [],
   "source": [
    "import numpy as np\n",
    "import csv\n",
    "import pandas as pd\n",
    "import random\n",
    "import matplotlib.pyplot as plt\n",
    "import seaborn as sns\n",
    "import sklearn\n",
    "\n",
    "\n",
    "df = pd.read_csv('bank-additional-full.csv', delimiter = \";\")\n",
    "\n",
    "# Creates copy of df (Might not need)\n",
    "df_copy = df\n",
    "\n",
    "# Convert to dummies\n",
    "df_dummies = pd.get_dummies(df)\n",
    "# Deletes columns \"y_no\" and \"duration\"\n",
    "del df_dummies[\"y_no\"]\n",
    "del df_dummies[\"duration\"]\n",
    "#print df_dummies\n",
    "\n",
    "x_ax = df_dummies.count\n",
    "\n",
    "#df_dummies.plot(kind = 'hist', x = x_ax, y = \"y_yes\")"
   ]
  },
  {
   "cell_type": "code",
   "execution_count": null,
   "metadata": {},
   "outputs": [],
   "source": []
  }
 ],
 "metadata": {
  "kernelspec": {
   "display_name": "Python 2",
   "language": "python",
   "name": "python2"
  },
  "language_info": {
   "codemirror_mode": {
    "name": "ipython",
    "version": 2
   },
   "file_extension": ".py",
   "mimetype": "text/x-python",
   "name": "python",
   "nbconvert_exporter": "python",
   "pygments_lexer": "ipython2",
   "version": "2.7.13"
  }
 },
 "nbformat": 4,
 "nbformat_minor": 2
}
