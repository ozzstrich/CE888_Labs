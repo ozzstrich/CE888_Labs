{
 "cells": [
  {
   "cell_type": "code",
   "execution_count": 7,
   "metadata": {},
   "outputs": [
    {
     "name": "stdout",
     "output_type": "stream",
     "text": [
      "687900\n"
     ]
    }
   ],
   "source": [
    "import pandas as pd\n",
    "import numpy as np\n",
    "import random\n",
    "np.set_printoptions(precision = 3)\n",
    "\n",
    "df = pd.read_csv('jester-data-1.csv')\n",
    "\n",
    "# Label approx 10% of the dataset cells as 99, to denote they are part of the validation set.\n",
    "# Keep the the actual values of the cells so you can use them later.\n",
    "\n",
    "df_copy = df\n",
    "count = 0\n",
    "\n",
    "# get 99 count\n",
    "for i in range(len(df_copy)):\n",
    "    for j in range(len(df_copy.iloc[i])):\n",
    "        if df_copy.iloc[i,j] == 99:\n",
    "            count = count + 1\n",
    "\n",
    "print count\n",
    "\n",
    "\n",
    "# Changes 10% of cells to 99\n",
    "for i in range(2498):\n",
    "    x = random.randint(1,100)\n",
    "    # print \"POS: \", i, x\n",
    "    # print \"OLD: \", df_copy.iloc[i,x]\n",
    "    df_copy.iloc[i,x] = 99\n",
    "    # print \"NEW: \", df_copy.iloc[i,x]\n",
    "    # print \"\\n\""
   ]
  },
  {
   "cell_type": "code",
   "execution_count": 73,
   "metadata": {},
   "outputs": [],
   "source": [
    "\n",
    "users = df_copy.shape[0]\n",
    "jokes = df_copy.shape[1]\n",
    "f = 3\n",
    "\n",
    "latent_item_features = np.random.random((jokes, f))\n",
    "latent_user_preferences = np.random.random((users, f))\n"
   ]
  },
  {
   "cell_type": "code",
   "execution_count": 74,
   "metadata": {},
   "outputs": [],
   "source": [
    "def predict_rating(user_row, joke_col):\n",
    "    \"\"\" Predict a rating given a user_row and an item_row. \"\"\"\n",
    "    \n",
    "    user_values = latent_user_preferences[user_row]\n",
    "    item_values = latent_item_features[joke_col]\n",
    "    return user_values.dot(item_values)\n"
   ]
  },
  {
   "cell_type": "code",
   "execution_count": 83,
   "metadata": {},
   "outputs": [],
   "source": [
    "# Training function.\n",
    "def train(user_row, item_row, rating, alpha = 0.001):\n",
    "    \"\"\" Adapt the values of user_preferences and item_factors to match\n",
    "    the ones predicted by the users. \"\"\"\n",
    "    \n",
    "    err = alpha * (rating - predict_rating(user_row, item_row))\n",
    "    latent_user_preferences[user_row] += err * latent_item_features[item_row]\n",
    "    latent_item_features[item_row] += err * latent_user_preferences[user_row]\n",
    "    return err\n"
   ]
  },
  {
   "cell_type": "code",
   "execution_count": 84,
   "metadata": {},
   "outputs": [],
   "source": [
    "def sgd(iterations = 100):\n",
    "    \"\"\" Iterate over all users and all items and train for \n",
    "        a certain number of iterations\n",
    "    \"\"\"\n",
    "    for iteration in range(0,iterations):\n",
    "        training_error = []\n",
    "        for user_row in range(0, 100):\n",
    "            for joke_col in range(0, jokes):\n",
    "                rating = df_copy.iloc[user_row][joke_col]\n",
    "                if(not np.isnan(rating) and rating < 99):\n",
    "                    err = train(user_row, joke_col, rating)\n",
    "                    training_error.append(err)\n",
    "    mse = (np.array(error) ** 2).mean()          \n",
    "    print mse\n",
    "                    \n",
    "                    \n",
    "    \n"
   ]
  },
  {
   "cell_type": "code",
   "execution_count": 85,
   "metadata": {},
   "outputs": [
    {
     "name": "stdout",
     "output_type": "stream",
     "text": [
      "0.0\n"
     ]
    },
    {
     "data": {
      "text/plain": [
       "array([[  4.275e-01,   3.521e-01,   7.510e-01],\n",
       "       [  3.860e-01,   4.048e-01,   1.108e-01],\n",
       "       [  4.073e-01,   5.597e-01,   9.816e-01],\n",
       "       [  2.911e-01,   3.613e-01,   3.105e-01],\n",
       "       [  8.978e-01,   8.216e-01,   9.200e-02],\n",
       "       [  6.814e-02,   5.403e-01,   9.744e-01],\n",
       "       [  1.989e-01,   9.043e-01,   5.736e-01],\n",
       "       [  4.246e-01,   4.129e-01,   3.192e-01],\n",
       "       [  3.090e-01,   6.189e-02,   7.265e-01],\n",
       "       [  9.701e-01,   3.817e-01,   1.329e-01],\n",
       "       [  3.515e-01,   5.875e-01,   3.998e-01],\n",
       "       [  1.885e-01,   4.905e-01,   1.830e-01],\n",
       "       [  1.871e-01,   1.934e-01,   1.005e-01],\n",
       "       [  3.835e-01,   7.889e-01,   9.261e-01],\n",
       "       [  6.132e-01,   5.079e-03,   3.727e-01],\n",
       "       [  2.273e-01,   4.380e-01,   6.299e-01],\n",
       "       [  3.194e-01,   4.064e-01,   9.462e-01],\n",
       "       [  5.204e-01,   9.103e-01,   7.529e-01],\n",
       "       [  1.593e-02,   9.966e-01,   3.241e-01],\n",
       "       [  6.080e-01,   4.524e-01,   7.219e-01],\n",
       "       [  6.437e-01,   7.003e-01,   1.337e-01],\n",
       "       [  9.293e-01,   3.425e-01,   6.331e-01],\n",
       "       [  9.703e-01,   9.978e-01,   3.589e-01],\n",
       "       [  3.135e-02,   2.430e-01,   4.864e-01],\n",
       "       [  6.209e-01,   6.300e-01,   3.526e-01],\n",
       "       [  5.178e-01,   2.331e-01,   5.040e-01],\n",
       "       [  2.327e-01,   8.836e-02,   2.463e-01],\n",
       "       [  4.860e-01,   5.063e-01,   9.103e-01],\n",
       "       [  9.369e-01,   6.596e-01,   8.883e-01],\n",
       "       [  9.701e-01,   4.572e-01,   9.970e-01],\n",
       "       [  5.558e-01,   2.725e-01,   4.089e-01],\n",
       "       [  4.931e-01,   9.157e-01,   3.055e-01],\n",
       "       [  9.355e-01,   9.962e-01,   9.047e-01],\n",
       "       [  3.395e-01,   3.142e-01,   3.379e-01],\n",
       "       [  9.701e-01,   9.474e-01,   9.118e-01],\n",
       "       [  6.807e-01,   7.691e-01,   3.970e-01],\n",
       "       [  9.284e-01,   8.598e-01,   8.474e-02],\n",
       "       [  3.240e-01,   5.239e-01,   2.732e-01],\n",
       "       [  1.425e-01,   1.274e-01,   3.293e-03],\n",
       "       [  4.282e-01,   8.846e-01,   4.144e-01],\n",
       "       [  8.278e-01,   1.603e-03,   3.010e-01],\n",
       "       [  2.531e-01,   6.092e-02,   8.704e-02],\n",
       "       [  5.025e-01,   8.630e-01,   9.228e-01],\n",
       "       [  9.322e-01,   9.024e-01,   2.393e-01],\n",
       "       [  7.525e-01,   6.774e-01,   7.041e-01],\n",
       "       [  2.714e-01,   1.827e-01,   6.916e-01],\n",
       "       [  2.224e-02,   6.380e-01,   8.628e-01],\n",
       "       [  9.904e-01,   7.221e-02,   7.215e-01],\n",
       "       [  9.575e-01,   4.423e-01,   6.461e-02],\n",
       "       [  7.820e-01,   7.821e-01,   9.040e-01],\n",
       "       [  8.861e-01,   5.823e-01,   7.748e-01],\n",
       "       [  9.260e-01,   4.009e-01,   3.667e-02],\n",
       "       [  8.803e-01,   6.128e-01,   7.689e-01],\n",
       "       [  1.771e-01,   6.128e-01,   4.848e-01],\n",
       "       [  2.935e-02,   7.651e-01,   4.961e-01],\n",
       "       [  9.159e-02,   4.520e-01,   3.968e-01],\n",
       "       [  7.585e-01,   3.400e-01,   2.056e-01],\n",
       "       [  8.548e-01,   4.973e-01,   5.057e-01],\n",
       "       [  7.084e-01,   3.591e-01,   7.421e-01],\n",
       "       [  3.760e-01,   7.073e-01,   4.255e-01],\n",
       "       [  4.517e-01,   4.965e-01,   1.171e-02],\n",
       "       [  7.089e-01,   5.487e-01,   6.049e-01],\n",
       "       [  2.851e-01,   3.887e-01,   5.776e-01],\n",
       "       [  8.828e-01,   3.266e-03,   1.069e-01],\n",
       "       [  8.534e-02,   9.727e-01,   8.975e-01],\n",
       "       [  1.281e-02,   6.879e-01,   9.496e-01],\n",
       "       [  1.519e-01,   8.177e-02,   7.130e-01],\n",
       "       [  5.646e-02,   9.320e-01,   5.632e-01],\n",
       "       [  9.360e-01,   8.542e-04,   7.134e-01],\n",
       "       [  4.673e-01,   6.073e-02,   2.976e-01],\n",
       "       [  6.687e-02,   4.483e-01,   9.156e-01],\n",
       "       [  6.901e-01,   5.473e-02,   3.472e-02],\n",
       "       [  6.324e-01,   6.206e-01,   9.128e-02],\n",
       "       [  3.773e-01,   3.193e-01,   6.610e-01],\n",
       "       [  5.811e-01,   4.131e-01,   2.328e-01],\n",
       "       [  3.890e-01,   4.471e-01,   3.318e-01],\n",
       "       [  8.380e-01,   3.403e-01,   2.990e-01],\n",
       "       [  9.467e-01,   3.181e-01,   1.362e-01],\n",
       "       [  1.813e-01,   8.437e-01,   6.765e-01],\n",
       "       [  4.788e-01,   8.987e-01,   4.902e-01],\n",
       "       [  5.672e-01,   1.624e-01,   4.110e-01],\n",
       "       [  6.346e-01,   4.305e-01,   9.106e-01],\n",
       "       [  5.240e-01,   4.153e-01,   8.391e-01],\n",
       "       [  8.924e-01,   3.801e-01,   7.717e-02],\n",
       "       [  9.738e-01,   2.098e-01,   3.126e-02],\n",
       "       [  3.317e-01,   2.917e-01,   7.086e-01],\n",
       "       [  9.526e-01,   5.364e-01,   5.293e-01],\n",
       "       [  8.917e-01,   2.915e-01,   7.541e-01],\n",
       "       [  1.743e-02,   4.514e-01,   5.376e-01],\n",
       "       [  6.018e-01,   8.372e-01,   7.626e-01],\n",
       "       [  1.707e-01,   3.592e-01,   3.396e-01],\n",
       "       [  9.095e-01,   3.784e-02,   7.668e-01],\n",
       "       [  9.390e-01,   1.877e-01,   8.069e-01],\n",
       "       [  7.622e-01,   9.459e-01,   8.159e-01],\n",
       "       [  7.920e-01,   8.902e-01,   4.996e-01],\n",
       "       [  4.954e-01,   4.425e-01,   6.263e-02],\n",
       "       [  3.945e-01,   6.599e-01,   2.481e-01],\n",
       "       [  8.078e-01,   5.393e-01,   5.977e-01],\n",
       "       [  3.728e-01,   5.606e-01,   9.985e-01],\n",
       "       [  8.327e-01,   3.932e-01,   9.876e-01],\n",
       "       [  1.440e-01,   5.082e-01,   6.580e-01]])"
      ]
     },
     "execution_count": 85,
     "metadata": {},
     "output_type": "execute_result"
    }
   ],
   "source": [
    "#train(0,0,10)\n",
    "sgd()\n",
    "user_preferences \n",
    "item_features"
   ]
  },
  {
   "cell_type": "code",
   "execution_count": 81,
   "metadata": {},
   "outputs": [
    {
     "name": "stdout",
     "output_type": "stream",
     "text": [
      "MSE:  8956.56116214\n"
     ]
    }
   ],
   "source": [
    "#MSE\n",
    "\n",
    "total_error = 0\n",
    "for user in range (0, 100):\n",
    "    for joke in range (0, jokes):\n",
    "        training_data = df.iloc[user][joke]\n",
    "        validation_data = df_copy.iloc[user][joke]\n",
    "        if (not training_data == validation_data):\n",
    "            prediction = predict_rating(user, joke)\n",
    "            error = (training_data - predict_rating(user, joke))\n",
    "            total_error += error\n",
    "            mse = total_error ** 2\n",
    "print \"MSE: \", mse\n",
    "        \n",
    "        "
   ]
  },
  {
   "cell_type": "code",
   "execution_count": null,
   "metadata": {},
   "outputs": [],
   "source": []
  }
 ],
 "metadata": {
  "kernelspec": {
   "display_name": "Python 2",
   "language": "python",
   "name": "python2"
  },
  "language_info": {
   "codemirror_mode": {
    "name": "ipython",
    "version": 2
   },
   "file_extension": ".py",
   "mimetype": "text/x-python",
   "name": "python",
   "nbconvert_exporter": "python",
   "pygments_lexer": "ipython2",
   "version": "2.7.13"
  }
 },
 "nbformat": 4,
 "nbformat_minor": 2
}
