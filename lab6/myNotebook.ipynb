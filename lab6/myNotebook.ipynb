{
 "cells": [
  {
   "cell_type": "code",
   "execution_count": 1,
   "metadata": {},
   "outputs": [],
   "source": [
    "import numpy as np\n",
    "import pandas as pd\n",
    "import seaborn as sns\n",
    "from sklearn.datasets import make_blobs\n",
    "from sklearn.cluster import KMeans\n",
    "from sklearn.metrics import silhouette_score\n",
    "from sklearn.cluster import AgglomerativeClustering\n",
    "import matplotlib.pyplot as plt\n",
    "import matplotlib.cm as cm\n",
    "\n",
    "\n",
    "# num of rows in df\n",
    "n = 50000\n",
    "s = 2\n",
    "\n",
    "df = pd.read_csv(\"hUSCensus1990raw50K.csv\")\n",
    "\n",
    "\n",
    "df_demo = pd.DataFrame()\n",
    "\n",
    "\n",
    "df_demo[\"AGE\"] = df[[\"AGE\"]].copy()\n",
    "df_demo[\"INCOME\"] = df[[\"INCOME\" + str(i) for i in range(1, 8)]].sum(axis=1)\n",
    "df_demo[\"YEARSCH\"] = df[[\"YEARSCH\"]].copy()\n",
    "df_demo[\"ENGLISH\"] = df[[\"ENGLISH\"]].copy()\n",
    "df_demo[\"FERTIL\"] = df[[\"FERTIL\"]].copy()\n",
    "df_demo[\"YRSSERV\"] = df[[\"YRSSERV\"]].copy()\n"
   ]
  },
  {
   "cell_type": "code",
   "execution_count": 2,
   "metadata": {},
   "outputs": [
    {
     "name": "stdout",
     "output_type": "stream",
     "text": [
      "pairplot done \n",
      "\n",
      "fig saved \n",
      "\n"
     ]
    }
   ],
   "source": [
    "g = sns.pairplot(df_demo, vars=[\"AGE\", \"INCOME\"])\n",
    "print \"pairplot done \\n\"\n",
    "\n",
    "g.savefig(\"output.png\")\n",
    "print \"fig saved \\n\"\n",
    "\n",
    "\n",
    "df_demo = pd.get_dummies(df_demo, columns=[\"ENGLISH\", \"FERTIL\"])\n",
    "\n",
    "X = df_demo.values[np.random.choice(df_demo.values.shape[0], 10000)]\n"
   ]
  },
  {
   "cell_type": "code",
   "execution_count": 4,
   "metadata": {},
   "outputs": [],
   "source": [
    "from sklearn import metrics\n",
    "from sklearn.preprocessing import StandardScaler\n",
    "sc = StandardScaler()\n",
    "X_db = sc.fit_transform(X)\n",
    "\n",
    "\n",
    "n_clusters = 0\n",
    "coeffs = []\n",
    "coeffs2 = []\n"
   ]
  },
  {
   "cell_type": "code",
   "execution_count": 5,
   "metadata": {},
   "outputs": [
    {
     "name": "stdout",
     "output_type": "stream",
     "text": [
      "\n",
      "\n",
      "Number of clusters: 2\n",
      "Silhouette Coefficient: 0.401\n",
      "\n",
      "\n",
      "Number of clusters: 3\n",
      "Silhouette Coefficient: 0.161\n",
      "\n",
      "\n",
      "Number of clusters: 4\n",
      "Silhouette Coefficient: 0.160\n",
      "\n",
      "\n",
      "Number of clusters: 5\n",
      "Silhouette Coefficient: 0.223\n",
      "\n",
      "\n",
      "Number of clusters: 6\n",
      "Silhouette Coefficient: 0.369\n",
      "\n",
      "\n",
      "Number of clusters: 7\n",
      "Silhouette Coefficient: 0.313\n",
      "\n",
      "\n",
      "Number of clusters: 8\n",
      "Silhouette Coefficient: 0.356\n",
      "\n",
      "\n",
      "Number of clusters: 9\n",
      "Silhouette Coefficient: 0.418\n",
      "\n",
      "\n",
      "Number of clusters: 10\n",
      "Silhouette Coefficient: 0.422\n",
      "Min Silhouette Coefficient is:  [0.15967133368627598]\n"
     ]
    }
   ],
   "source": [
    "for n_clusters in range(2, 11):\n",
    "    labels = KMeans(n_clusters=n_clusters).fit_predict(X_db)\n",
    "    labels2 = AgglomerativeClustering(n_clusters = n_clusters).fit_predict(X_db)\n",
    "    print \"\\n\"\n",
    "    print('Number of clusters: %d' % n_clusters)\n",
    "\n",
    "    print(\"Silhouette Coefficient: %0.3f\" % metrics.silhouette_score(X_db, labels))\n",
    "\n",
    "    x = (metrics.silhouette_score(X_db, labels))\n",
    "    x2 = (metrics.silhouette_score(X_db, labels2))\n",
    "\n",
    "    coeffs.append([x])\n",
    "    coeffs2.append([x2])\n",
    "\n",
    "    # print \"Coeffs: \", coeffs\n",
    "    # print \"Coeffs2: \", coeffs2\n",
    "\n",
    "\n",
    "min_coeff = min(coeffs)\n",
    "\n",
    "print \"Min Silhouette Coefficient is: \", min_coeff"
   ]
  },
  {
   "cell_type": "code",
   "execution_count": 6,
   "metadata": {},
   "outputs": [],
   "source": [
    "for i in range(10):\n",
    "    skip = sorted(np.random.choice(range(1, n), n - s - 1, replace=False))\n",
    "    s += 1\n",
    "    df_copy = pd.read_csv(\"hUSCensus1990raw50K.csv\", skiprows = skip)\n"
   ]
  },
  {
   "cell_type": "code",
   "execution_count": 7,
   "metadata": {},
   "outputs": [
    {
     "name": "stdout",
     "output_type": "stream",
     "text": [
      "[0.40126699632365542, 0.16099893028062395, 0.15967133368627598, 0.22308652013672717, 0.36878007079080555, 0.31284845241345166, 0.35576539274104357, 0.41834418535573398]\n",
      "[0.36662301750307313, 0.26284507157530501, 0.18669140844555293, 0.24396628409317844, 0.25439488292916684, 0.27680620096661634, 0.28266817238301845, 0.28540089404265306]\n",
      "fin \n",
      "\n"
     ]
    }
   ],
   "source": [
    "data_output = []\n",
    "data_output2 = []\n",
    "\n",
    "for i in range(0, 8):\n",
    "    for j in range(1):\n",
    "        data_output.append(coeffs[i][j])\n",
    "        data_output2.append(coeffs2[i][j])\n",
    "\n",
    "\n",
    "sns_plot1 = sns.pointplot(data=[data_output])\n",
    "sns_plot2 = sns.pointplot(data=[data_output2])\n",
    "\n",
    "fig1 = sns_plot1.get_figure()\n",
    "fig1.savefig(\"kmeans.png\")\n",
    "\n",
    "fig2 = sns_plot2.get_figure()\n",
    "fig2.savefig(\"agglo.png\")\n",
    "\n",
    "\n",
    "\n",
    "print data_output\n",
    "print data_output2\n",
    "\n",
    "print \"fin \\n\"\n",
    "\n"
   ]
  },
  {
   "cell_type": "code",
   "execution_count": null,
   "metadata": {},
   "outputs": [],
   "source": []
  }
 ],
 "metadata": {
  "kernelspec": {
   "display_name": "Python 2",
   "language": "python",
   "name": "python2"
  },
  "language_info": {
   "codemirror_mode": {
    "name": "ipython",
    "version": 2
   },
   "file_extension": ".py",
   "mimetype": "text/x-python",
   "name": "python",
   "nbconvert_exporter": "python",
   "pygments_lexer": "ipython2",
   "version": "2.7.13"
  }
 },
 "nbformat": 4,
 "nbformat_minor": 2
}
